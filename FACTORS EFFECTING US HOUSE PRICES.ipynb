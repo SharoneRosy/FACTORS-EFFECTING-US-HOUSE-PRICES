{
 "cells": [
  {
   "cell_type": "markdown",
   "metadata": {},
   "source": [
    "# Lifecycle In A Data Science Project:\n",
    "\n"
   ]
  },
  {
   "cell_type": "raw",
   "metadata": {},
   "source": [
    "1.Data Analysis\n",
    "2.Feature Engineering\n",
    "3.Feature Selection\n",
    "4.Model Building\n",
    "5.Model Deployment"
   ]
  },
  {
   "cell_type": "code",
   "execution_count": 132,
   "metadata": {},
   "outputs": [],
   "source": [
    "## Data Analysis Phase\n",
    "## MAin aim is to understand more about the data\n",
    "\n",
    "import pandas as pd\n",
    "import numpy as np\n",
    "import matplotlib.pyplot as plt\n",
    "%matplotlib inline\n",
    "import seaborn as sns"
   ]
  },
  {
   "cell_type": "code",
   "execution_count": 133,
   "metadata": {},
   "outputs": [
    {
     "name": "stdout",
     "output_type": "stream",
     "text": [
      "(84, 6)\n"
     ]
    }
   ],
   "source": [
    "dataset1=pd.read_csv('demand_data.csv')\n",
    "\n",
    "## print shape of dataset with rows and columns\n",
    "print(dataset1.shape)"
   ]
  },
  {
   "cell_type": "code",
   "execution_count": 134,
   "metadata": {},
   "outputs": [
    {
     "name": "stdout",
     "output_type": "stream",
     "text": [
      "(250, 6)\n"
     ]
    }
   ],
   "source": [
    "dataset2=pd.read_csv('supply_data.csv')\n",
    "## print shape of dataset with rows and columns\n",
    "print(dataset2.shape)"
   ]
  },
  {
   "cell_type": "code",
   "execution_count": 135,
   "metadata": {},
   "outputs": [
    {
     "data": {
      "text/html": [
       "<div>\n",
       "<style scoped>\n",
       "    .dataframe tbody tr th:only-of-type {\n",
       "        vertical-align: middle;\n",
       "    }\n",
       "\n",
       "    .dataframe tbody tr th {\n",
       "        vertical-align: top;\n",
       "    }\n",
       "\n",
       "    .dataframe thead th {\n",
       "        text-align: right;\n",
       "    }\n",
       "</style>\n",
       "<table border=\"1\" class=\"dataframe\">\n",
       "  <thead>\n",
       "    <tr style=\"text-align: right;\">\n",
       "      <th></th>\n",
       "      <th>DATE</th>\n",
       "      <th>UNEM_RATE</th>\n",
       "      <th>MORTGAGE</th>\n",
       "      <th>GDPC1</th>\n",
       "      <th>FORECLOSURES</th>\n",
       "      <th>HPI</th>\n",
       "    </tr>\n",
       "  </thead>\n",
       "  <tbody>\n",
       "    <tr>\n",
       "      <th>0</th>\n",
       "      <td>2000-01-01</td>\n",
       "      <td>4.03</td>\n",
       "      <td>8.26</td>\n",
       "      <td>12935.252</td>\n",
       "      <td>1.95</td>\n",
       "      <td>101.34</td>\n",
       "    </tr>\n",
       "    <tr>\n",
       "      <th>1</th>\n",
       "      <td>2000-04-01</td>\n",
       "      <td>3.93</td>\n",
       "      <td>8.32</td>\n",
       "      <td>13170.749</td>\n",
       "      <td>1.97</td>\n",
       "      <td>103.67</td>\n",
       "    </tr>\n",
       "    <tr>\n",
       "      <th>2</th>\n",
       "      <td>2000-07-01</td>\n",
       "      <td>4.00</td>\n",
       "      <td>8.02</td>\n",
       "      <td>13183.890</td>\n",
       "      <td>2.09</td>\n",
       "      <td>105.79</td>\n",
       "    </tr>\n",
       "    <tr>\n",
       "      <th>3</th>\n",
       "      <td>2000-10-01</td>\n",
       "      <td>3.90</td>\n",
       "      <td>7.62</td>\n",
       "      <td>13262.250</td>\n",
       "      <td>2.23</td>\n",
       "      <td>108.27</td>\n",
       "    </tr>\n",
       "    <tr>\n",
       "      <th>4</th>\n",
       "      <td>2001-01-01</td>\n",
       "      <td>4.23</td>\n",
       "      <td>7.01</td>\n",
       "      <td>13219.251</td>\n",
       "      <td>2.34</td>\n",
       "      <td>110.48</td>\n",
       "    </tr>\n",
       "  </tbody>\n",
       "</table>\n",
       "</div>"
      ],
      "text/plain": [
       "         DATE  UNEM_RATE  MORTGAGE      GDPC1  FORECLOSURES     HPI\n",
       "0  2000-01-01       4.03      8.26  12935.252          1.95  101.34\n",
       "1  2000-04-01       3.93      8.32  13170.749          1.97  103.67\n",
       "2  2000-07-01       4.00      8.02  13183.890          2.09  105.79\n",
       "3  2000-10-01       3.90      7.62  13262.250          2.23  108.27\n",
       "4  2001-01-01       4.23      7.01  13219.251          2.34  110.48"
      ]
     },
     "execution_count": 135,
     "metadata": {},
     "output_type": "execute_result"
    }
   ],
   "source": [
    "## print the top5 records\n",
    "dataset1.head()"
   ]
  },
  {
   "cell_type": "code",
   "execution_count": 136,
   "metadata": {},
   "outputs": [
    {
     "data": {
      "text/html": [
       "<div>\n",
       "<style scoped>\n",
       "    .dataframe tbody tr th:only-of-type {\n",
       "        vertical-align: middle;\n",
       "    }\n",
       "\n",
       "    .dataframe tbody tr th {\n",
       "        vertical-align: top;\n",
       "    }\n",
       "\n",
       "    .dataframe thead th {\n",
       "        text-align: right;\n",
       "    }\n",
       "</style>\n",
       "<table border=\"1\" class=\"dataframe\">\n",
       "  <thead>\n",
       "    <tr style=\"text-align: right;\">\n",
       "      <th></th>\n",
       "      <th>Unnamed: 0</th>\n",
       "      <th>Period</th>\n",
       "      <th>Permit_Number</th>\n",
       "      <th>construction</th>\n",
       "      <th>Homes_Sold</th>\n",
       "      <th>Housing_Starts</th>\n",
       "    </tr>\n",
       "  </thead>\n",
       "  <tbody>\n",
       "    <tr>\n",
       "      <th>0</th>\n",
       "      <td>1</td>\n",
       "      <td>01-01-2000</td>\n",
       "      <td>1727</td>\n",
       "      <td>353065</td>\n",
       "      <td>873</td>\n",
       "      <td>1636</td>\n",
       "    </tr>\n",
       "    <tr>\n",
       "      <th>1</th>\n",
       "      <td>2</td>\n",
       "      <td>01-02-2000</td>\n",
       "      <td>1692</td>\n",
       "      <td>351933</td>\n",
       "      <td>856</td>\n",
       "      <td>1737</td>\n",
       "    </tr>\n",
       "    <tr>\n",
       "      <th>2</th>\n",
       "      <td>3</td>\n",
       "      <td>01-03-2000</td>\n",
       "      <td>1651</td>\n",
       "      <td>353452</td>\n",
       "      <td>900</td>\n",
       "      <td>1604</td>\n",
       "    </tr>\n",
       "    <tr>\n",
       "      <th>3</th>\n",
       "      <td>4</td>\n",
       "      <td>01-04-2000</td>\n",
       "      <td>1597</td>\n",
       "      <td>356188</td>\n",
       "      <td>841</td>\n",
       "      <td>1626</td>\n",
       "    </tr>\n",
       "    <tr>\n",
       "      <th>4</th>\n",
       "      <td>5</td>\n",
       "      <td>01-05-2000</td>\n",
       "      <td>1543</td>\n",
       "      <td>349907</td>\n",
       "      <td>857</td>\n",
       "      <td>1575</td>\n",
       "    </tr>\n",
       "  </tbody>\n",
       "</table>\n",
       "</div>"
      ],
      "text/plain": [
       "   Unnamed: 0      Period  Permit_Number  construction  Homes_Sold  \\\n",
       "0           1  01-01-2000           1727        353065         873   \n",
       "1           2  01-02-2000           1692        351933         856   \n",
       "2           3  01-03-2000           1651        353452         900   \n",
       "3           4  01-04-2000           1597        356188         841   \n",
       "4           5  01-05-2000           1543        349907         857   \n",
       "\n",
       "   Housing_Starts  \n",
       "0            1636  \n",
       "1            1737  \n",
       "2            1604  \n",
       "3            1626  \n",
       "4            1575  "
      ]
     },
     "execution_count": 136,
     "metadata": {},
     "output_type": "execute_result"
    }
   ],
   "source": [
    "dataset2.head()"
   ]
  },
  {
   "cell_type": "raw",
   "metadata": {},
   "source": [
    "The dataset contains key factors that could influence Residential home prices in the last 20 years in the United States. This factor falls into two categories\n",
    "i.e. Supply & Demand\n",
    "\n",
    "The S&P Case-Shiller Housing Price Index(HPI) is taken as the y variable, or dependent variable, as an indicator of change in prices.\n",
    "\n",
    "\n",
    "Supplydataset(Monthlydata)-\n",
    "1.Building Permits(Permit Number)-Number of building permits allotted \n",
    "2.Construction Spending (Million $)-The amount spent (in millions of USD) is a measure of the activity in the construction industry.\n",
    "3.Housing Starts(New Housing Project)-This is a measure of the number of units of new housing projects started in a given period.\n",
    "4.Homes Sold(units)-House for sale is a basic measure of supply.\n",
    "\n",
    "\n",
    "Demanddataset(Quaterlydata)-\n",
    "1.Mortgage Rates(%)\n",
    "2.USA GDP(Billions$ )-Quarterly Real GDP (adjusted for inflation)\n",
    "3.Unemployment(%)\n",
    "4.Delinquency Rate(%) on Mortgages(Foreclosure on the mortgage)-an indicator of the number of foreclosures in real estate."
   ]
  },
  {
   "cell_type": "markdown",
   "metadata": {},
   "source": [
    "# Merging supply and demand dataframes:"
   ]
  },
  {
   "cell_type": "code",
   "execution_count": 137,
   "metadata": {},
   "outputs": [
    {
     "data": {
      "text/html": [
       "<div>\n",
       "<style scoped>\n",
       "    .dataframe tbody tr th:only-of-type {\n",
       "        vertical-align: middle;\n",
       "    }\n",
       "\n",
       "    .dataframe tbody tr th {\n",
       "        vertical-align: top;\n",
       "    }\n",
       "\n",
       "    .dataframe thead th {\n",
       "        text-align: right;\n",
       "    }\n",
       "</style>\n",
       "<table border=\"1\" class=\"dataframe\">\n",
       "  <thead>\n",
       "    <tr style=\"text-align: right;\">\n",
       "      <th></th>\n",
       "      <th>DATE</th>\n",
       "      <th>UNEM_RATE</th>\n",
       "      <th>MORTGAGE</th>\n",
       "      <th>GDPC1</th>\n",
       "      <th>FORECLOSURES</th>\n",
       "      <th>HPI</th>\n",
       "      <th>Unnamed: 0</th>\n",
       "      <th>Period</th>\n",
       "      <th>Permit_Number</th>\n",
       "      <th>construction</th>\n",
       "      <th>Homes_Sold</th>\n",
       "      <th>Housing_Starts</th>\n",
       "    </tr>\n",
       "  </thead>\n",
       "  <tbody>\n",
       "    <tr>\n",
       "      <th>0</th>\n",
       "      <td>2000-01-01</td>\n",
       "      <td>4.03</td>\n",
       "      <td>8.26</td>\n",
       "      <td>12935.252</td>\n",
       "      <td>1.95</td>\n",
       "      <td>101.34</td>\n",
       "      <td>1</td>\n",
       "      <td>01-01-2000</td>\n",
       "      <td>1727</td>\n",
       "      <td>353065</td>\n",
       "      <td>873</td>\n",
       "      <td>1636</td>\n",
       "    </tr>\n",
       "    <tr>\n",
       "      <th>1</th>\n",
       "      <td>2000-04-01</td>\n",
       "      <td>3.93</td>\n",
       "      <td>8.32</td>\n",
       "      <td>13170.749</td>\n",
       "      <td>1.97</td>\n",
       "      <td>103.67</td>\n",
       "      <td>2</td>\n",
       "      <td>01-02-2000</td>\n",
       "      <td>1692</td>\n",
       "      <td>351933</td>\n",
       "      <td>856</td>\n",
       "      <td>1737</td>\n",
       "    </tr>\n",
       "    <tr>\n",
       "      <th>2</th>\n",
       "      <td>2000-07-01</td>\n",
       "      <td>4.00</td>\n",
       "      <td>8.02</td>\n",
       "      <td>13183.890</td>\n",
       "      <td>2.09</td>\n",
       "      <td>105.79</td>\n",
       "      <td>3</td>\n",
       "      <td>01-03-2000</td>\n",
       "      <td>1651</td>\n",
       "      <td>353452</td>\n",
       "      <td>900</td>\n",
       "      <td>1604</td>\n",
       "    </tr>\n",
       "    <tr>\n",
       "      <th>3</th>\n",
       "      <td>2000-10-01</td>\n",
       "      <td>3.90</td>\n",
       "      <td>7.62</td>\n",
       "      <td>13262.250</td>\n",
       "      <td>2.23</td>\n",
       "      <td>108.27</td>\n",
       "      <td>4</td>\n",
       "      <td>01-04-2000</td>\n",
       "      <td>1597</td>\n",
       "      <td>356188</td>\n",
       "      <td>841</td>\n",
       "      <td>1626</td>\n",
       "    </tr>\n",
       "    <tr>\n",
       "      <th>4</th>\n",
       "      <td>2001-01-01</td>\n",
       "      <td>4.23</td>\n",
       "      <td>7.01</td>\n",
       "      <td>13219.251</td>\n",
       "      <td>2.34</td>\n",
       "      <td>110.48</td>\n",
       "      <td>5</td>\n",
       "      <td>01-05-2000</td>\n",
       "      <td>1543</td>\n",
       "      <td>349907</td>\n",
       "      <td>857</td>\n",
       "      <td>1575</td>\n",
       "    </tr>\n",
       "  </tbody>\n",
       "</table>\n",
       "</div>"
      ],
      "text/plain": [
       "         DATE  UNEM_RATE  MORTGAGE      GDPC1  FORECLOSURES     HPI  \\\n",
       "0  2000-01-01       4.03      8.26  12935.252          1.95  101.34   \n",
       "1  2000-04-01       3.93      8.32  13170.749          1.97  103.67   \n",
       "2  2000-07-01       4.00      8.02  13183.890          2.09  105.79   \n",
       "3  2000-10-01       3.90      7.62  13262.250          2.23  108.27   \n",
       "4  2001-01-01       4.23      7.01  13219.251          2.34  110.48   \n",
       "\n",
       "   Unnamed: 0      Period  Permit_Number  construction  Homes_Sold  \\\n",
       "0           1  01-01-2000           1727        353065         873   \n",
       "1           2  01-02-2000           1692        351933         856   \n",
       "2           3  01-03-2000           1651        353452         900   \n",
       "3           4  01-04-2000           1597        356188         841   \n",
       "4           5  01-05-2000           1543        349907         857   \n",
       "\n",
       "   Housing_Starts  \n",
       "0            1636  \n",
       "1            1737  \n",
       "2            1604  \n",
       "3            1626  \n",
       "4            1575  "
      ]
     },
     "execution_count": 137,
     "metadata": {},
     "output_type": "execute_result"
    }
   ],
   "source": [
    "dataset = pd.concat([dataset1,dataset2], axis = 1)\n",
    "dataset.head()"
   ]
  },
  {
   "cell_type": "code",
   "execution_count": 138,
   "metadata": {},
   "outputs": [],
   "source": [
    "dataset=dataset.drop(['Unnamed: 0'], axis=1)"
   ]
  },
  {
   "cell_type": "markdown",
   "metadata": {},
   "source": [
    "# In Data Analysis We will Analyze To Find out the below stuff"
   ]
  },
  {
   "cell_type": "raw",
   "metadata": {},
   "source": [
    "1.Missing Values\n",
    "2.All The Numerical Variables\n",
    "3.Distribution of the Numerical Variables\n",
    "4.Categorical Variables\n",
    "5.Cardinality of Categorical Variables\n",
    "6.Outliers\n",
    "7.Relationship between independent and dependent feature(HPI)"
   ]
  },
  {
   "cell_type": "code",
   "execution_count": 139,
   "metadata": {},
   "outputs": [
    {
     "name": "stdout",
     "output_type": "stream",
     "text": [
      "DATE 0.664  % missing values\n",
      "UNEM_RATE 0.664  % missing values\n",
      "MORTGAGE 0.664  % missing values\n",
      "GDPC1 0.664  % missing values\n",
      "FORECLOSURES 0.664  % missing values\n",
      "HPI 0.664  % missing values\n"
     ]
    }
   ],
   "source": [
    "## Here we will check the percentage of nan values present in each feature\n",
    "## 1 -step make the list of features which has missing values\n",
    "features_with_na=[features for features in dataset.columns if dataset[features].isnull().sum()>1]\n",
    "## 2- step print the feature name and the percentage of missing values\n",
    "\n",
    "for feature in features_with_na:\n",
    "    print(feature, np.round(dataset[feature].isnull().mean(), 4),  ' % missing values')"
   ]
  },
  {
   "cell_type": "code",
   "execution_count": 140,
   "metadata": {},
   "outputs": [
    {
     "data": {
      "image/png": "[encoded data removed]",
      "text/plain": [
       "<Figure size 432x288 with 1 Axes>"
      ]
     },
     "metadata": {
      "needs_background": "light"
     },
     "output_type": "display_data"
    },
    {
     "data": {
      "image/png": "[encoded data removed]",
      "text/plain": [
       "<Figure size 432x288 with 1 Axes>"
      ]
     },
     "metadata": {
      "needs_background": "light"
     },
     "output_type": "display_data"
    },
    {
     "data": {
      "image/png": "[encoded data removed]",
      "text/plain": [
       "<Figure size 432x288 with 1 Axes>"
      ]
     },
     "metadata": {
      "needs_background": "light"
     },
     "output_type": "display_data"
    },
    {
     "data": {
      "image/png": "[encoded data removed]",
      "text/plain": [
       "<Figure size 432x288 with 1 Axes>"
      ]
     },
     "metadata": {
      "needs_background": "light"
     },
     "output_type": "display_data"
    },
    {
     "data": {
      "image/png": "[encoded data removed]",
      "text/plain": [
       "<Figure size 432x288 with 1 Axes>"
      ]
     },
     "metadata": {
      "needs_background": "light"
     },
     "output_type": "display_data"
    },
    {
     "data": {
      "image/png": "[encoded data removed]",
      "text/plain": [
       "<Figure size 432x288 with 1 Axes>"
      ]
     },
     "metadata": {
      "needs_background": "light"
     },
     "output_type": "display_data"
    }
   ],
   "source": [
    "for feature in features_with_na:\n",
    "    data = dataset.copy()\n",
    "    \n",
    "    # let's make a variable that indicates 1 if the observation was missing or zero otherwise\n",
    "    data[feature] = np.where(data[feature].isnull(), 1, 0)\n",
    "    \n",
    "    # let's calculate the mean SalePrice where the information is missing or present\n",
    "    data.groupby(feature)['HPI'].median().plot.bar()\n",
    "    plt.title(feature)\n",
    "    plt.show()"
   ]
  },
  {
   "cell_type": "raw",
   "metadata": {},
   "source": [
    "Here With the relation between the missing values and the dependent variable is clearly visible.So We need to replace these nan values with something meaningful which we will do in the Feature Engineering section\n",
    "\n",
    "From the above dataset some of the features like Id is not required"
   ]
  },
  {
   "cell_type": "markdown",
   "metadata": {},
   "source": [
    "# Numerical Variables"
   ]
  },
  {
   "cell_type": "code",
   "execution_count": 141,
   "metadata": {},
   "outputs": [
    {
     "name": "stdout",
     "output_type": "stream",
     "text": [
      "Number of numerical variables:  9\n"
     ]
    },
    {
     "data": {
      "text/html": [
       "<div>\n",
       "<style scoped>\n",
       "    .dataframe tbody tr th:only-of-type {\n",
       "        vertical-align: middle;\n",
       "    }\n",
       "\n",
       "    .dataframe tbody tr th {\n",
       "        vertical-align: top;\n",
       "    }\n",
       "\n",
       "    .dataframe thead th {\n",
       "        text-align: right;\n",
       "    }\n",
       "</style>\n",
       "<table border=\"1\" class=\"dataframe\">\n",
       "  <thead>\n",
       "    <tr style=\"text-align: right;\">\n",
       "      <th></th>\n",
       "      <th>UNEM_RATE</th>\n",
       "      <th>MORTGAGE</th>\n",
       "      <th>GDPC1</th>\n",
       "      <th>FORECLOSURES</th>\n",
       "      <th>HPI</th>\n",
       "      <th>Permit_Number</th>\n",
       "      <th>construction</th>\n",
       "      <th>Homes_Sold</th>\n",
       "      <th>Housing_Starts</th>\n",
       "    </tr>\n",
       "  </thead>\n",
       "  <tbody>\n",
       "    <tr>\n",
       "      <th>0</th>\n",
       "      <td>4.03</td>\n",
       "      <td>8.26</td>\n",
       "      <td>12935.252</td>\n",
       "      <td>1.95</td>\n",
       "      <td>101.34</td>\n",
       "      <td>1727</td>\n",
       "      <td>353065</td>\n",
       "      <td>873</td>\n",
       "      <td>1636</td>\n",
       "    </tr>\n",
       "    <tr>\n",
       "      <th>1</th>\n",
       "      <td>3.93</td>\n",
       "      <td>8.32</td>\n",
       "      <td>13170.749</td>\n",
       "      <td>1.97</td>\n",
       "      <td>103.67</td>\n",
       "      <td>1692</td>\n",
       "      <td>351933</td>\n",
       "      <td>856</td>\n",
       "      <td>1737</td>\n",
       "    </tr>\n",
       "    <tr>\n",
       "      <th>2</th>\n",
       "      <td>4.00</td>\n",
       "      <td>8.02</td>\n",
       "      <td>13183.890</td>\n",
       "      <td>2.09</td>\n",
       "      <td>105.79</td>\n",
       "      <td>1651</td>\n",
       "      <td>353452</td>\n",
       "      <td>900</td>\n",
       "      <td>1604</td>\n",
       "    </tr>\n",
       "    <tr>\n",
       "      <th>3</th>\n",
       "      <td>3.90</td>\n",
       "      <td>7.62</td>\n",
       "      <td>13262.250</td>\n",
       "      <td>2.23</td>\n",
       "      <td>108.27</td>\n",
       "      <td>1597</td>\n",
       "      <td>356188</td>\n",
       "      <td>841</td>\n",
       "      <td>1626</td>\n",
       "    </tr>\n",
       "    <tr>\n",
       "      <th>4</th>\n",
       "      <td>4.23</td>\n",
       "      <td>7.01</td>\n",
       "      <td>13219.251</td>\n",
       "      <td>2.34</td>\n",
       "      <td>110.48</td>\n",
       "      <td>1543</td>\n",
       "      <td>349907</td>\n",
       "      <td>857</td>\n",
       "      <td>1575</td>\n",
       "    </tr>\n",
       "  </tbody>\n",
       "</table>\n",
       "</div>"
      ],
      "text/plain": [
       "   UNEM_RATE  MORTGAGE      GDPC1  FORECLOSURES     HPI  Permit_Number  \\\n",
       "0       4.03      8.26  12935.252          1.95  101.34           1727   \n",
       "1       3.93      8.32  13170.749          1.97  103.67           1692   \n",
       "2       4.00      8.02  13183.890          2.09  105.79           1651   \n",
       "3       3.90      7.62  13262.250          2.23  108.27           1597   \n",
       "4       4.23      7.01  13219.251          2.34  110.48           1543   \n",
       "\n",
       "   construction  Homes_Sold  Housing_Starts  \n",
       "0        353065         873            1636  \n",
       "1        351933         856            1737  \n",
       "2        353452         900            1604  \n",
       "3        356188         841            1626  \n",
       "4        349907         857            1575  "
      ]
     },
     "execution_count": 141,
     "metadata": {},
     "output_type": "execute_result"
    }
   ],
   "source": [
    "# list of numerical variables\n",
    "numerical_features = [feature for feature in dataset.columns if dataset[feature].dtypes != 'O']\n",
    "\n",
    "print('Number of numerical variables: ', len(numerical_features))\n",
    "\n",
    "# visualise the numerical variables\n",
    "dataset[numerical_features].head()"
   ]
  },
  {
   "cell_type": "markdown",
   "metadata": {},
   "source": [
    "# Temporal Variables(Eg: Datetime Variables)"
   ]
  },
  {
   "cell_type": "code",
   "execution_count": 142,
   "metadata": {},
   "outputs": [
    {
     "data": {
      "text/plain": [
       "['DATE', 'Period']"
      ]
     },
     "execution_count": 142,
     "metadata": {},
     "output_type": "execute_result"
    }
   ],
   "source": [
    "# list of variables that contain year information\n",
    "year_feature = [feature for feature in  dataset.columns if 'DATE' in feature or 'Period' in feature]\n",
    "\n",
    "year_feature"
   ]
  },
  {
   "cell_type": "code",
   "execution_count": 143,
   "metadata": {},
   "outputs": [
    {
     "name": "stdout",
     "output_type": "stream",
     "text": [
      "DATE ['2000-01-01' '2000-04-01' '2000-07-01' '2000-10-01' '2001-01-01'\n",
      " '2001-04-01' '2001-07-01' '2001-10-01' '2002-01-01' '2002-04-01'\n",
      " '2002-07-01' '2002-10-01' '2003-01-01' '2003-04-01' '2003-07-01'\n",
      " '2003-10-01' '2004-01-01' '2004-04-01' '2004-07-01' '2004-10-01'\n",
      " '2005-01-01' '2005-04-01' '2005-07-01' '2005-10-01' '2006-01-01'\n",
      " '2006-04-01' '2006-07-01' '2006-10-01' '2007-01-01' '2007-04-01'\n",
      " '2007-07-01' '2007-10-01' '2008-01-01' '2008-04-01' '2008-07-01'\n",
      " '2008-10-01' '2009-01-01' '2009-04-01' '2009-07-01' '2009-10-01'\n",
      " '2010-01-01' '2010-04-01' '2010-07-01' '2010-10-01' '2011-01-01'\n",
      " '2011-04-01' '2011-07-01' '2011-10-01' '2012-01-01' '2012-04-01'\n",
      " '2012-07-01' '2012-10-01' '2013-01-01' '2013-04-01' '2013-07-01'\n",
      " '2013-10-01' '2014-01-01' '2014-04-01' '2014-07-01' '2014-10-01'\n",
      " '2015-01-01' '2015-04-01' '2015-07-01' '2015-10-01' '2016-01-01'\n",
      " '2016-04-01' '2016-07-01' '2016-10-01' '2017-01-01' '2017-04-01'\n",
      " '2017-07-01' '2017-10-01' '2018-01-01' '2018-04-01' '2018-07-01'\n",
      " '2018-10-01' '2019-01-01' '2019-04-01' '2019-07-01' '2019-10-01'\n",
      " '2020-01-01' '2020-04-01' '2020-07-01' '2020-10-01' nan]\n",
      "Period ['01-01-2000' '01-02-2000' '01-03-2000' '01-04-2000' '01-05-2000'\n",
      " '01-06-2000' '01-07-2000' '01-08-2000' '01-09-2000' '01-10-2000'\n",
      " '01-11-2000' '01-12-2000' '01-01-2001' '01-02-2001' '01-03-2001'\n",
      " '01-04-2001' '01-05-2001' '01-06-2001' '01-07-2001' '01-08-2001'\n",
      " '01-09-2001' '01-10-2001' '01-11-2001' '01-12-2001' '01-01-2002'\n",
      " '01-02-2002' '01-03-2002' '01-04-2002' '01-05-2002' '01-06-2002'\n",
      " '01-07-2002' '01-08-2002' '01-09-2002' '01-10-2002' '01-11-2002'\n",
      " '01-12-2002' '01-01-2003' '01-02-2003' '01-03-2003' '01-04-2003'\n",
      " '01-05-2003' '01-06-2003' '01-07-2003' '01-08-2003' '01-09-2003'\n",
      " '01-10-2003' '01-11-2003' '01-12-2003' '01-01-2004' '01-02-2004'\n",
      " '01-03-2004' '01-04-2004' '01-05-2004' '01-06-2004' '01-07-2004'\n",
      " '01-08-2004' '01-09-2004' '01-10-2004' '01-11-2004' '01-12-2004'\n",
      " '01-01-2005' '01-02-2005' '01-03-2005' '01-04-2005' '01-05-2005'\n",
      " '01-06-2005' '01-07-2005' '01-08-2005' '01-09-2005' '01-10-2005'\n",
      " '01-11-2005' '01-12-2005' '01-01-2006' '01-02-2006' '01-03-2006'\n",
      " '01-04-2006' '01-05-2006' '01-06-2006' '01-07-2006' '01-08-2006'\n",
      " '01-09-2006' '01-10-2006' '01-11-2006' '01-12-2006' '01-01-2007'\n",
      " '01-02-2007' '01-03-2007' '01-04-2007' '01-05-2007' '01-06-2007'\n",
      " '01-07-2007' '01-08-2007' '01-09-2007' '01-10-2007' '01-11-2007'\n",
      " '01-12-2007' '01-01-2008' '01-02-2008' '01-03-2008' '01-04-2008'\n",
      " '01-05-2008' '01-06-2008' '01-07-2008' '01-08-2008' '01-09-2008'\n",
      " '01-10-2008' '01-11-2008' '01-12-2008' '01-01-2009' '01-02-2009'\n",
      " '01-03-2009' '01-04-2009' '01-05-2009' '01-06-2009' '01-07-2009'\n",
      " '01-08-2009' '01-09-2009' '01-10-2009' '01-11-2009' '01-12-2009'\n",
      " '01-01-2010' '01-02-2010' '01-03-2010' '01-04-2010' '01-05-2010'\n",
      " '01-06-2010' '01-07-2010' '01-08-2010' '01-09-2010' '01-10-2010'\n",
      " '01-11-2010' '01-12-2010' '01-01-2011' '01-02-2011' '01-03-2011'\n",
      " '01-04-2011' '01-05-2011' '01-06-2011' '01-07-2011' '01-08-2011'\n",
      " '01-09-2011' '01-10-2011' '01-11-2011' '01-12-2011' '01-01-2012'\n",
      " '01-02-2012' '01-03-2012' '01-04-2012' '01-05-2012' '01-06-2012'\n",
      " '01-07-2012' '01-08-2012' '01-09-2012' '01-10-2012' '01-11-2012'\n",
      " '01-12-2012' '01-01-2013' '01-02-2013' '01-03-2013' '01-04-2013'\n",
      " '01-05-2013' '01-06-2013' '01-07-2013' '01-08-2013' '01-09-2013'\n",
      " '01-10-2013' '01-11-2013' '01-12-2013' '01-01-2014' '01-02-2014'\n",
      " '01-03-2014' '01-04-2014' '01-05-2014' '01-06-2014' '01-07-2014'\n",
      " '01-08-2014' '01-09-2014' '01-10-2014' '01-11-2014' '01-12-2014'\n",
      " '01-01-2015' '01-02-2015' '01-03-2015' '01-04-2015' '01-05-2015'\n",
      " '01-06-2015' '01-07-2015' '01-08-2015' '01-09-2015' '01-10-2015'\n",
      " '01-11-2015' '01-12-2015' '01-01-2016' '01-02-2016' '01-03-2016'\n",
      " '01-04-2016' '01-05-2016' '01-06-2016' '01-07-2016' '01-08-2016'\n",
      " '01-09-2016' '01-10-2016' '01-11-2016' '01-12-2016' '01-01-2017'\n",
      " '01-02-2017' '01-03-2017' '01-04-2017' '01-05-2017' '01-06-2017'\n",
      " '01-07-2017' '01-08-2017' '01-09-2017' '01-10-2017' '01-11-2017'\n",
      " '01-12-2017' '01-01-2018' '01-02-2018' '01-03-2018' '01-04-2018'\n",
      " '01-05-2018' '01-06-2018' '01-07-2018' '01-08-2018' '01-09-2018'\n",
      " '01-10-2018' '01-11-2018' '01-12-2018' '01-01-2019' '01-02-2019'\n",
      " '01-03-2019' '01-04-2019' '01-05-2019' '01-06-2019' '01-07-2019'\n",
      " '01-08-2019' '01-09-2019' '01-10-2019' '01-11-2019' '01-12-2019'\n",
      " '01-01-2020' '01-02-2020' '01-03-2020' '01-04-2020' '01-05-2020'\n",
      " '01-06-2020' '01-07-2020' '01-08-2020' '01-09-2020' '01-10-2020']\n"
     ]
    }
   ],
   "source": [
    "# let's explore the content of these year variables\n",
    "for feature in year_feature:\n",
    "    print(feature, dataset[feature].unique())"
   ]
  },
  {
   "cell_type": "code",
   "execution_count": 144,
   "metadata": {},
   "outputs": [],
   "source": [
    "dataset=dataset.drop(['DATE','Period'], axis=1)"
   ]
  },
  {
   "cell_type": "code",
   "execution_count": 145,
   "metadata": {},
   "outputs": [
    {
     "name": "stdout",
     "output_type": "stream",
     "text": [
      "Discrete Variables Count: 0\n"
     ]
    }
   ],
   "source": [
    "## Numerical variables are usually of 2 type\n",
    "## 1. Continous variable and Discrete Variables\n",
    "\n",
    "discrete_feature=[feature for feature in numerical_features if len(dataset[feature].unique())<25 and feature not in year_feature+['Id']]\n",
    "print(\"Discrete Variables Count: {}\".format(len(discrete_feature)))"
   ]
  },
  {
   "cell_type": "markdown",
   "metadata": {},
   "source": [
    "# "
   ]
  },
  {
   "cell_type": "markdown",
   "metadata": {},
   "source": [
    "# Continuous Variable"
   ]
  },
  {
   "cell_type": "code",
   "execution_count": 146,
   "metadata": {},
   "outputs": [
    {
     "name": "stdout",
     "output_type": "stream",
     "text": [
      "Continuous feature Count 9\n"
     ]
    }
   ],
   "source": [
    "continuous_feature=[feature for feature in numerical_features if feature not in discrete_feature+year_feature+['Id']]\n",
    "print(\"Continuous feature Count {}\".format(len(continuous_feature)))"
   ]
  },
  {
   "cell_type": "code",
   "execution_count": 147,
   "metadata": {},
   "outputs": [
    {
     "data": {
      "image/png": "[encoded data removed]",
      "text/plain": [
       "<Figure size 432x288 with 1 Axes>"
      ]
     },
     "metadata": {
      "needs_background": "light"
     },
     "output_type": "display_data"
    },
    {
     "data": {
      "image/png": "[encoded data removed]",
      "text/plain": [
       "<Figure size 432x288 with 1 Axes>"
      ]
     },
     "metadata": {
      "needs_background": "light"
     },
     "output_type": "display_data"
    },
    {
     "data": {
      "image/png": "[encoded data removed]",
      "text/plain": [
       "<Figure size 432x288 with 1 Axes>"
      ]
     },
     "metadata": {
      "needs_background": "light"
     },
     "output_type": "display_data"
    },
    {
     "data": {
      "image/png": "[encoded data removed]",
      "text/plain": [
       "<Figure size 432x288 with 1 Axes>"
      ]
     },
     "metadata": {
      "needs_background": "light"
     },
     "output_type": "display_data"
    },
    {
     "data": {
      "image/png": "[encoded data removed]",
      "text/plain": [
       "<Figure size 432x288 with 1 Axes>"
      ]
     },
     "metadata": {
      "needs_background": "light"
     },
     "output_type": "display_data"
    },
    {
     "data": {
      "image/png": "[encoded data removed]",
      "text/plain": [
       "<Figure size 432x288 with 1 Axes>"
      ]
     },
     "metadata": {
      "needs_background": "light"
     },
     "output_type": "display_data"
    },
    {
     "data": {
      "image/png": "[encoded data removed]",
      "text/plain": [
       "<Figure size 432x288 with 1 Axes>"
      ]
     },
     "metadata": {
      "needs_background": "light"
     },
     "output_type": "display_data"
    },
    {
     "data": {
      "image/png": "[encoded data removed]",
      "text/plain": [
       "<Figure size 432x288 with 1 Axes>"
      ]
     },
     "metadata": {
      "needs_background": "light"
     },
     "output_type": "display_data"
    },
    {
     "data": {
      "image/png": "[encoded data removed]",
      "text/plain": [
       "<Figure size 432x288 with 1 Axes>"
      ]
     },
     "metadata": {
      "needs_background": "light"
     },
     "output_type": "display_data"
    }
   ],
   "source": [
    "## Lets analyse the continuous values by creating histograms to understand the distribution\n",
    "\n",
    "for feature in continuous_feature:\n",
    "    data=dataset.copy()\n",
    "    data[feature].hist(bins=25)\n",
    "    plt.xlabel(feature)\n",
    "    plt.ylabel(\"Count\")\n",
    "    plt.title(feature)\n",
    "    plt.show()"
   ]
  },
  {
   "cell_type": "code",
   "execution_count": 148,
   "metadata": {},
   "outputs": [
    {
     "data": {
      "image/png": "[encoded data removed]",
      "text/plain": [
       "<Figure size 432x288 with 1 Axes>"
      ]
     },
     "metadata": {
      "needs_background": "light"
     },
     "output_type": "display_data"
    },
    {
     "data": {
      "image/png": "[encoded data removed]",
      "text/plain": [
       "<Figure size 432x288 with 1 Axes>"
      ]
     },
     "metadata": {
      "needs_background": "light"
     },
     "output_type": "display_data"
    },
    {
     "data": {
      "image/png": "[encoded data removed]",
      "text/plain": [
       "<Figure size 432x288 with 1 Axes>"
      ]
     },
     "metadata": {
      "needs_background": "light"
     },
     "output_type": "display_data"
    },
    {
     "data": {
      "image/png": "[encoded data removed]",
      "text/plain": [
       "<Figure size 432x288 with 1 Axes>"
      ]
     },
     "metadata": {
      "needs_background": "light"
     },
     "output_type": "display_data"
    },
    {
     "data": {
      "image/png": "[encoded data removed]",
      "text/plain": [
       "<Figure size 432x288 with 1 Axes>"
      ]
     },
     "metadata": {
      "needs_background": "light"
     },
     "output_type": "display_data"
    },
    {
     "data": {
      "image/png": "[encoded data removed]",
      "text/plain": [
       "<Figure size 432x288 with 1 Axes>"
      ]
     },
     "metadata": {
      "needs_background": "light"
     },
     "output_type": "display_data"
    },
    {
     "data": {
      "image/png": "[encoded data removed]",
      "text/plain": [
       "<Figure size 432x288 with 1 Axes>"
      ]
     },
     "metadata": {
      "needs_background": "light"
     },
     "output_type": "display_data"
    },
    {
     "data": {
      "image/png": "[encoded data removed]",
      "text/plain": [
       "<Figure size 432x288 with 1 Axes>"
      ]
     },
     "metadata": {
      "needs_background": "light"
     },
     "output_type": "display_data"
    },
    {
     "data": {
      "image/png": "[encoded data removed]",
      "text/plain": [
       "<Figure size 432x288 with 1 Axes>"
      ]
     },
     "metadata": {
      "needs_background": "light"
     },
     "output_type": "display_data"
    }
   ],
   "source": [
    "## We will be using logarithmic transformation\n",
    "\n",
    "\n",
    "for feature in continuous_feature:\n",
    "    data=dataset.copy()\n",
    "    if 0 in data[feature].unique():\n",
    "        pass\n",
    "    else:\n",
    "        data[feature]=np.log(data[feature])\n",
    "        data['HPI']=np.log(data['HPI'])\n",
    "        plt.scatter(data[feature],data['HPI'])\n",
    "        plt.xlabel(feature)\n",
    "        plt.ylabel('HPI')\n",
    "        plt.title(feature)\n",
    "        plt.show()\n",
    "        "
   ]
  },
  {
   "cell_type": "markdown",
   "metadata": {},
   "source": [
    "# Outliers"
   ]
  },
  {
   "cell_type": "code",
   "execution_count": 149,
   "metadata": {},
   "outputs": [
    {
     "data": {
      "image/png": "[encoded data removed]",
      "text/plain": [
       "<Figure size 432x288 with 1 Axes>"
      ]
     },
     "metadata": {
      "needs_background": "light"
     },
     "output_type": "display_data"
    },
    {
     "data": {
      "image/png": "[encoded data removed]",
      "text/plain": [
       "<Figure size 432x288 with 1 Axes>"
      ]
     },
     "metadata": {
      "needs_background": "light"
     },
     "output_type": "display_data"
    },
    {
     "data": {
      "image/png": "[encoded data removed]",
      "text/plain": [
       "<Figure size 432x288 with 1 Axes>"
      ]
     },
     "metadata": {
      "needs_background": "light"
     },
     "output_type": "display_data"
    },
    {
     "data": {
      "image/png": "[encoded data removed]",
      "text/plain": [
       "<Figure size 432x288 with 1 Axes>"
      ]
     },
     "metadata": {
      "needs_background": "light"
     },
     "output_type": "display_data"
    },
    {
     "data": {
      "image/png": "[encoded data removed]",
      "text/plain": [
       "<Figure size 432x288 with 1 Axes>"
      ]
     },
     "metadata": {
      "needs_background": "light"
     },
     "output_type": "display_data"
    },
    {
     "data": {
      "image/png": "[encoded data removed]",
      "text/plain": [
       "<Figure size 432x288 with 1 Axes>"
      ]
     },
     "metadata": {
      "needs_background": "light"
     },
     "output_type": "display_data"
    },
    {
     "data": {
      "image/png": "[encoded data removed]",
      "text/plain": [
       "<Figure size 432x288 with 1 Axes>"
      ]
     },
     "metadata": {
      "needs_background": "light"
     },
     "output_type": "display_data"
    },
    {
     "data": {
      "image/png": "[encoded data removed]",
      "text/plain": [
       "<Figure size 432x288 with 1 Axes>"
      ]
     },
     "metadata": {
      "needs_background": "light"
     },
     "output_type": "display_data"
    },
    {
     "data": {
      "image/png": "[encoded data removed]",
      "text/plain": [
       "<Figure size 432x288 with 1 Axes>"
      ]
     },
     "metadata": {
      "needs_background": "light"
     },
     "output_type": "display_data"
    }
   ],
   "source": [
    "for feature in continuous_feature:\n",
    "    data=dataset.copy()\n",
    "    if 0 in data[feature].unique():\n",
    "        pass\n",
    "    else:\n",
    "        data[feature]=np.log(data[feature])\n",
    "        data.boxplot(column=feature)\n",
    "        plt.ylabel(feature)\n",
    "        plt.title(feature)\n",
    "        plt.show()"
   ]
  },
  {
   "cell_type": "markdown",
   "metadata": {},
   "source": [
    "# Feature Engineering"
   ]
  },
  {
   "cell_type": "raw",
   "metadata": {},
   "source": [
    "We will be performing all the below steps in Feature Engineering\n",
    "\n",
    "1.Missing values\n",
    "2.Temporal variables\n",
    "3.Categorical variables: remove rare labels\n",
    "4.Standarise the values of the variables to the same range"
   ]
  },
  {
   "cell_type": "code",
   "execution_count": 150,
   "metadata": {},
   "outputs": [],
   "source": [
    "from sklearn.model_selection import train_test_split\n",
    "X_train,X_test,y_train,y_test=train_test_split(dataset,dataset['HPI'],test_size=0.1,random_state=0)"
   ]
  },
  {
   "cell_type": "code",
   "execution_count": 151,
   "metadata": {},
   "outputs": [
    {
     "data": {
      "text/plain": [
       "((225, 9), (25, 9))"
      ]
     },
     "execution_count": 151,
     "metadata": {},
     "output_type": "execute_result"
    }
   ],
   "source": [
    "X_train.shape, X_test.shape\n"
   ]
  },
  {
   "cell_type": "markdown",
   "metadata": {},
   "source": [
    "# Missing Values"
   ]
  },
  {
   "cell_type": "code",
   "execution_count": 152,
   "metadata": {},
   "outputs": [],
   "source": [
    "## Let us capture all the nan values\n",
    "\n",
    "features_nan=[feature for feature in dataset.columns if dataset[feature].isnull().sum()>1 and dataset[feature].dtypes=='O']\n",
    "\n",
    "for feature in features_nan:\n",
    "    print(\"{}: {}% missing values\".format(feature,np.round(dataset[feature].isnull().mean(),4)))"
   ]
  },
  {
   "cell_type": "code",
   "execution_count": 153,
   "metadata": {},
   "outputs": [
    {
     "data": {
      "text/plain": [
       "Series([], dtype: float64)"
      ]
     },
     "execution_count": 153,
     "metadata": {},
     "output_type": "execute_result"
    }
   ],
   "source": [
    "## Replace missing value with a new label\n",
    "def replace_cat_feature(dataset,features_nan):\n",
    "    data=dataset.copy()\n",
    "    data[features_nan]=data[features_nan].fillna('Missing')\n",
    "    return data\n",
    "\n",
    "dataset=replace_cat_feature(dataset,features_nan)\n",
    "\n",
    "dataset[features_nan].isnull().sum()"
   ]
  },
  {
   "cell_type": "code",
   "execution_count": 154,
   "metadata": {},
   "outputs": [
    {
     "data": {
      "text/html": [
       "<div>\n",
       "<style scoped>\n",
       "    .dataframe tbody tr th:only-of-type {\n",
       "        vertical-align: middle;\n",
       "    }\n",
       "\n",
       "    .dataframe tbody tr th {\n",
       "        vertical-align: top;\n",
       "    }\n",
       "\n",
       "    .dataframe thead th {\n",
       "        text-align: right;\n",
       "    }\n",
       "</style>\n",
       "<table border=\"1\" class=\"dataframe\">\n",
       "  <thead>\n",
       "    <tr style=\"text-align: right;\">\n",
       "      <th></th>\n",
       "      <th>UNEM_RATE</th>\n",
       "      <th>MORTGAGE</th>\n",
       "      <th>GDPC1</th>\n",
       "      <th>FORECLOSURES</th>\n",
       "      <th>HPI</th>\n",
       "      <th>Permit_Number</th>\n",
       "      <th>construction</th>\n",
       "      <th>Homes_Sold</th>\n",
       "      <th>Housing_Starts</th>\n",
       "    </tr>\n",
       "  </thead>\n",
       "  <tbody>\n",
       "    <tr>\n",
       "      <th>0</th>\n",
       "      <td>4.03</td>\n",
       "      <td>8.26</td>\n",
       "      <td>12935.252</td>\n",
       "      <td>1.95</td>\n",
       "      <td>101.34</td>\n",
       "      <td>1727</td>\n",
       "      <td>353065</td>\n",
       "      <td>873</td>\n",
       "      <td>1636</td>\n",
       "    </tr>\n",
       "    <tr>\n",
       "      <th>1</th>\n",
       "      <td>3.93</td>\n",
       "      <td>8.32</td>\n",
       "      <td>13170.749</td>\n",
       "      <td>1.97</td>\n",
       "      <td>103.67</td>\n",
       "      <td>1692</td>\n",
       "      <td>351933</td>\n",
       "      <td>856</td>\n",
       "      <td>1737</td>\n",
       "    </tr>\n",
       "    <tr>\n",
       "      <th>2</th>\n",
       "      <td>4.00</td>\n",
       "      <td>8.02</td>\n",
       "      <td>13183.890</td>\n",
       "      <td>2.09</td>\n",
       "      <td>105.79</td>\n",
       "      <td>1651</td>\n",
       "      <td>353452</td>\n",
       "      <td>900</td>\n",
       "      <td>1604</td>\n",
       "    </tr>\n",
       "    <tr>\n",
       "      <th>3</th>\n",
       "      <td>3.90</td>\n",
       "      <td>7.62</td>\n",
       "      <td>13262.250</td>\n",
       "      <td>2.23</td>\n",
       "      <td>108.27</td>\n",
       "      <td>1597</td>\n",
       "      <td>356188</td>\n",
       "      <td>841</td>\n",
       "      <td>1626</td>\n",
       "    </tr>\n",
       "    <tr>\n",
       "      <th>4</th>\n",
       "      <td>4.23</td>\n",
       "      <td>7.01</td>\n",
       "      <td>13219.251</td>\n",
       "      <td>2.34</td>\n",
       "      <td>110.48</td>\n",
       "      <td>1543</td>\n",
       "      <td>349907</td>\n",
       "      <td>857</td>\n",
       "      <td>1575</td>\n",
       "    </tr>\n",
       "  </tbody>\n",
       "</table>\n",
       "</div>"
      ],
      "text/plain": [
       "   UNEM_RATE  MORTGAGE      GDPC1  FORECLOSURES     HPI  Permit_Number  \\\n",
       "0       4.03      8.26  12935.252          1.95  101.34           1727   \n",
       "1       3.93      8.32  13170.749          1.97  103.67           1692   \n",
       "2       4.00      8.02  13183.890          2.09  105.79           1651   \n",
       "3       3.90      7.62  13262.250          2.23  108.27           1597   \n",
       "4       4.23      7.01  13219.251          2.34  110.48           1543   \n",
       "\n",
       "   construction  Homes_Sold  Housing_Starts  \n",
       "0        353065         873            1636  \n",
       "1        351933         856            1737  \n",
       "2        353452         900            1604  \n",
       "3        356188         841            1626  \n",
       "4        349907         857            1575  "
      ]
     },
     "execution_count": 154,
     "metadata": {},
     "output_type": "execute_result"
    }
   ],
   "source": [
    "dataset.head()"
   ]
  },
  {
   "cell_type": "code",
   "execution_count": 177,
   "metadata": {},
   "outputs": [
    {
     "name": "stdout",
     "output_type": "stream",
     "text": [
      "UNEM_RATE: 0.0% missing value\n",
      "MORTGAGE: 0.0% missing value\n",
      "GDPC1: 0.0% missing value\n",
      "FORECLOSURES: 0.0% missing value\n",
      "HPI: 0.0% missing value\n",
      "Permit_Number: 0.0% missing value\n",
      "construction: 0.0% missing value\n",
      "Homes_Sold: 0.0% missing value\n",
      "Housing_Starts: 0.0% missing value\n",
      "UNEM_RATEnan: 0.0% missing value\n",
      "MORTGAGEnan: 0.0% missing value\n",
      "GDPC1nan: 0.0% missing value\n",
      "FORECLOSURESnan: 0.0% missing value\n",
      "HPInan: 0.0% missing value\n"
     ]
    }
   ],
   "source": [
    "## Now lets check for  missing values\n",
    "numerical_with_nan=[feature for feature in dataset.columns if dataset[feature].isnull().sum()>1 and dataset[feature].dtypes!='O']\n",
    "\n",
    "## We will print the numerical nan variables and percentage of missing values\n",
    "\n",
    "for feature in dataset.columns:\n",
    "    print(\"{}: {}% missing value\".format(feature,np.around(dataset[feature].isnull().mean(),4)))"
   ]
  },
  {
   "cell_type": "code",
   "execution_count": 178,
   "metadata": {},
   "outputs": [
    {
     "data": {
      "text/plain": [
       "Series([], dtype: float64)"
      ]
     },
     "execution_count": 178,
     "metadata": {},
     "output_type": "execute_result"
    }
   ],
   "source": [
    "## Replacing Missing Values\n",
    "\n",
    "for feature in dataset.columns:\n",
    "    ## We will replace by using median since there are outliers\n",
    "    median_value=dataset[feature].median()\n",
    "    \n",
    "    ## create a new feature to capture nan values\n",
    "    dataset[feature+'nan']=np.where(dataset[feature].isnull(),1,0)\n",
    "    dataset[feature].fillna(median_value,inplace=True)\n",
    "    \n",
    "dataset[numerical_with_nan].isnull().sum()\n",
    "    \n",
    "    "
   ]
  },
  {
   "cell_type": "markdown",
   "metadata": {},
   "source": [
    "# Feature Scaling"
   ]
  },
  {
   "cell_type": "code",
   "execution_count": 179,
   "metadata": {},
   "outputs": [
    {
     "data": {
      "text/plain": [
       "MinMaxScaler()"
      ]
     },
     "execution_count": 179,
     "metadata": {},
     "output_type": "execute_result"
    }
   ],
   "source": [
    "feature_scale=[feature for feature in dataset.columns if feature not in ['HPI']]\n",
    "\n",
    "from sklearn.preprocessing import MinMaxScaler\n",
    "scaler=MinMaxScaler()\n",
    "scaler.fit(dataset[feature_scale])"
   ]
  },
  {
   "cell_type": "code",
   "execution_count": 180,
   "metadata": {},
   "outputs": [
    {
     "data": {
      "text/plain": [
       "array([[0.04540655, 0.98920863, 0.        , ..., 0.        , 0.        ,\n",
       "        0.        ],\n",
       "       [0.03484688, 1.        , 0.03757696, ..., 0.        , 0.        ,\n",
       "        0.        ],\n",
       "       [0.04223865, 0.94604317, 0.0396738 , ..., 0.        , 0.        ,\n",
       "        0.        ],\n",
       "       ...,\n",
       "       [0.19324182, 0.38219424, 0.45209036, ..., 0.        , 0.        ,\n",
       "        0.        ],\n",
       "       [0.19324182, 0.38219424, 0.45209036, ..., 0.        , 0.        ,\n",
       "        0.        ],\n",
       "       [0.19324182, 0.38219424, 0.45209036, ..., 0.        , 0.        ,\n",
       "        0.        ]])"
      ]
     },
     "execution_count": 180,
     "metadata": {},
     "output_type": "execute_result"
    }
   ],
   "source": [
    "scaler.transform(dataset[feature_scale])"
   ]
  },
  {
   "cell_type": "code",
   "execution_count": 181,
   "metadata": {},
   "outputs": [],
   "source": [
    "# transform the train and test set, and add on the HPI variables\n",
    "data = pd.concat([dataset[['HPI']].reset_index(drop=True),\n",
    "                    pd.DataFrame(scaler.transform(dataset[feature_scale]), columns=feature_scale)],\n",
    "                    axis=1)"
   ]
  },
  {
   "cell_type": "code",
   "execution_count": 182,
   "metadata": {},
   "outputs": [
    {
     "data": {
      "text/html": [
       "<div>\n",
       "<style scoped>\n",
       "    .dataframe tbody tr th:only-of-type {\n",
       "        vertical-align: middle;\n",
       "    }\n",
       "\n",
       "    .dataframe tbody tr th {\n",
       "        vertical-align: top;\n",
       "    }\n",
       "\n",
       "    .dataframe thead th {\n",
       "        text-align: right;\n",
       "    }\n",
       "</style>\n",
       "<table border=\"1\" class=\"dataframe\">\n",
       "  <thead>\n",
       "    <tr style=\"text-align: right;\">\n",
       "      <th></th>\n",
       "      <th>HPI</th>\n",
       "      <th>UNEM_RATE</th>\n",
       "      <th>MORTGAGE</th>\n",
       "      <th>GDPC1</th>\n",
       "      <th>FORECLOSURES</th>\n",
       "      <th>Permit_Number</th>\n",
       "      <th>construction</th>\n",
       "      <th>Homes_Sold</th>\n",
       "      <th>Housing_Starts</th>\n",
       "      <th>UNEM_RATEnan</th>\n",
       "      <th>MORTGAGEnan</th>\n",
       "      <th>GDPC1nan</th>\n",
       "      <th>FORECLOSURESnan</th>\n",
       "      <th>HPInan</th>\n",
       "      <th>Permit_Numbernan</th>\n",
       "      <th>constructionnan</th>\n",
       "      <th>Homes_Soldnan</th>\n",
       "      <th>Housing_Startsnan</th>\n",
       "      <th>UNEM_RATEnannan</th>\n",
       "      <th>MORTGAGEnannan</th>\n",
       "      <th>GDPC1nannan</th>\n",
       "      <th>FORECLOSURESnannan</th>\n",
       "      <th>HPInannan</th>\n",
       "    </tr>\n",
       "  </thead>\n",
       "  <tbody>\n",
       "    <tr>\n",
       "      <th>0</th>\n",
       "      <td>101.34</td>\n",
       "      <td>0.045407</td>\n",
       "      <td>0.989209</td>\n",
       "      <td>0.000000</td>\n",
       "      <td>0.053307</td>\n",
       "      <td>0.693714</td>\n",
       "      <td>0.263665</td>\n",
       "      <td>0.538874</td>\n",
       "      <td>0.645125</td>\n",
       "      <td>0.0</td>\n",
       "      <td>0.0</td>\n",
       "      <td>0.0</td>\n",
       "      <td>0.0</td>\n",
       "      <td>0.0</td>\n",
       "      <td>0.0</td>\n",
       "      <td>0.0</td>\n",
       "      <td>0.0</td>\n",
       "      <td>0.0</td>\n",
       "      <td>0.0</td>\n",
       "      <td>0.0</td>\n",
       "      <td>0.0</td>\n",
       "      <td>0.0</td>\n",
       "      <td>0.0</td>\n",
       "    </tr>\n",
       "    <tr>\n",
       "      <th>1</th>\n",
       "      <td>103.67</td>\n",
       "      <td>0.034847</td>\n",
       "      <td>1.000000</td>\n",
       "      <td>0.037577</td>\n",
       "      <td>0.055281</td>\n",
       "      <td>0.673714</td>\n",
       "      <td>0.261104</td>\n",
       "      <td>0.523682</td>\n",
       "      <td>0.701393</td>\n",
       "      <td>0.0</td>\n",
       "      <td>0.0</td>\n",
       "      <td>0.0</td>\n",
       "      <td>0.0</td>\n",
       "      <td>0.0</td>\n",
       "      <td>0.0</td>\n",
       "      <td>0.0</td>\n",
       "      <td>0.0</td>\n",
       "      <td>0.0</td>\n",
       "      <td>0.0</td>\n",
       "      <td>0.0</td>\n",
       "      <td>0.0</td>\n",
       "      <td>0.0</td>\n",
       "      <td>0.0</td>\n",
       "    </tr>\n",
       "    <tr>\n",
       "      <th>2</th>\n",
       "      <td>105.79</td>\n",
       "      <td>0.042239</td>\n",
       "      <td>0.946043</td>\n",
       "      <td>0.039674</td>\n",
       "      <td>0.067127</td>\n",
       "      <td>0.650286</td>\n",
       "      <td>0.264540</td>\n",
       "      <td>0.563003</td>\n",
       "      <td>0.627298</td>\n",
       "      <td>0.0</td>\n",
       "      <td>0.0</td>\n",
       "      <td>0.0</td>\n",
       "      <td>0.0</td>\n",
       "      <td>0.0</td>\n",
       "      <td>0.0</td>\n",
       "      <td>0.0</td>\n",
       "      <td>0.0</td>\n",
       "      <td>0.0</td>\n",
       "      <td>0.0</td>\n",
       "      <td>0.0</td>\n",
       "      <td>0.0</td>\n",
       "      <td>0.0</td>\n",
       "      <td>0.0</td>\n",
       "    </tr>\n",
       "    <tr>\n",
       "      <th>3</th>\n",
       "      <td>108.27</td>\n",
       "      <td>0.031679</td>\n",
       "      <td>0.874101</td>\n",
       "      <td>0.052177</td>\n",
       "      <td>0.080948</td>\n",
       "      <td>0.619429</td>\n",
       "      <td>0.270730</td>\n",
       "      <td>0.510277</td>\n",
       "      <td>0.639554</td>\n",
       "      <td>0.0</td>\n",
       "      <td>0.0</td>\n",
       "      <td>0.0</td>\n",
       "      <td>0.0</td>\n",
       "      <td>0.0</td>\n",
       "      <td>0.0</td>\n",
       "      <td>0.0</td>\n",
       "      <td>0.0</td>\n",
       "      <td>0.0</td>\n",
       "      <td>0.0</td>\n",
       "      <td>0.0</td>\n",
       "      <td>0.0</td>\n",
       "      <td>0.0</td>\n",
       "      <td>0.0</td>\n",
       "    </tr>\n",
       "    <tr>\n",
       "      <th>4</th>\n",
       "      <td>110.48</td>\n",
       "      <td>0.066526</td>\n",
       "      <td>0.764388</td>\n",
       "      <td>0.045316</td>\n",
       "      <td>0.091807</td>\n",
       "      <td>0.588571</td>\n",
       "      <td>0.256521</td>\n",
       "      <td>0.524576</td>\n",
       "      <td>0.611142</td>\n",
       "      <td>0.0</td>\n",
       "      <td>0.0</td>\n",
       "      <td>0.0</td>\n",
       "      <td>0.0</td>\n",
       "      <td>0.0</td>\n",
       "      <td>0.0</td>\n",
       "      <td>0.0</td>\n",
       "      <td>0.0</td>\n",
       "      <td>0.0</td>\n",
       "      <td>0.0</td>\n",
       "      <td>0.0</td>\n",
       "      <td>0.0</td>\n",
       "      <td>0.0</td>\n",
       "      <td>0.0</td>\n",
       "    </tr>\n",
       "  </tbody>\n",
       "</table>\n",
       "</div>"
      ],
      "text/plain": [
       "      HPI  UNEM_RATE  MORTGAGE     GDPC1  FORECLOSURES  Permit_Number  \\\n",
       "0  101.34   0.045407  0.989209  0.000000      0.053307       0.693714   \n",
       "1  103.67   0.034847  1.000000  0.037577      0.055281       0.673714   \n",
       "2  105.79   0.042239  0.946043  0.039674      0.067127       0.650286   \n",
       "3  108.27   0.031679  0.874101  0.052177      0.080948       0.619429   \n",
       "4  110.48   0.066526  0.764388  0.045316      0.091807       0.588571   \n",
       "\n",
       "   construction  Homes_Sold  Housing_Starts  UNEM_RATEnan  MORTGAGEnan  \\\n",
       "0      0.263665    0.538874        0.645125           0.0          0.0   \n",
       "1      0.261104    0.523682        0.701393           0.0          0.0   \n",
       "2      0.264540    0.563003        0.627298           0.0          0.0   \n",
       "3      0.270730    0.510277        0.639554           0.0          0.0   \n",
       "4      0.256521    0.524576        0.611142           0.0          0.0   \n",
       "\n",
       "   GDPC1nan  FORECLOSURESnan  HPInan  Permit_Numbernan  constructionnan  \\\n",
       "0       0.0              0.0     0.0               0.0              0.0   \n",
       "1       0.0              0.0     0.0               0.0              0.0   \n",
       "2       0.0              0.0     0.0               0.0              0.0   \n",
       "3       0.0              0.0     0.0               0.0              0.0   \n",
       "4       0.0              0.0     0.0               0.0              0.0   \n",
       "\n",
       "   Homes_Soldnan  Housing_Startsnan  UNEM_RATEnannan  MORTGAGEnannan  \\\n",
       "0            0.0                0.0              0.0             0.0   \n",
       "1            0.0                0.0              0.0             0.0   \n",
       "2            0.0                0.0              0.0             0.0   \n",
       "3            0.0                0.0              0.0             0.0   \n",
       "4            0.0                0.0              0.0             0.0   \n",
       "\n",
       "   GDPC1nannan  FORECLOSURESnannan  HPInannan  \n",
       "0          0.0                 0.0        0.0  \n",
       "1          0.0                 0.0        0.0  \n",
       "2          0.0                 0.0        0.0  \n",
       "3          0.0                 0.0        0.0  \n",
       "4          0.0                 0.0        0.0  "
      ]
     },
     "execution_count": 182,
     "metadata": {},
     "output_type": "execute_result"
    }
   ],
   "source": [
    "data.head()"
   ]
  },
  {
   "cell_type": "markdown",
   "metadata": {},
   "source": [
    "# Feature Selection"
   ]
  },
  {
   "cell_type": "code",
   "execution_count": 183,
   "metadata": {},
   "outputs": [],
   "source": [
    "## for feature slection\n",
    "\n",
    "from sklearn.linear_model import Lasso\n",
    "from sklearn.feature_selection import SelectFromModel\n",
    "\n",
    "# to visualise al the columns in the dataframe\n",
    "pd.pandas.set_option('display.max_columns', None)"
   ]
  },
  {
   "cell_type": "code",
   "execution_count": 184,
   "metadata": {},
   "outputs": [],
   "source": [
    "## Capture the dependent feature\n",
    "y_train=dataset[['HPI']]"
   ]
  },
  {
   "cell_type": "code",
   "execution_count": 185,
   "metadata": {},
   "outputs": [],
   "source": [
    "X_train=dataset.drop(['HPI'],axis=1)"
   ]
  },
  {
   "cell_type": "code",
   "execution_count": 186,
   "metadata": {},
   "outputs": [
    {
     "data": {
      "text/plain": [
       "SelectFromModel(estimator=Lasso(alpha=0.005, random_state=0))"
      ]
     },
     "execution_count": 186,
     "metadata": {},
     "output_type": "execute_result"
    }
   ],
   "source": [
    "### Apply Feature Selection\n",
    "# first, I specify the Lasso Regression model, and I\n",
    "# select a suitable alpha (equivalent of penalty).\n",
    "# The bigger the alpha the less features that will be selected.\n",
    "\n",
    "# Then I use the selectFromModel object from sklearn, which\n",
    "# will select the features which coefficients are non-zero\n",
    "\n",
    "feature_sel_model = SelectFromModel(Lasso(alpha=0.005, random_state=0)) # remember to set the seed, the random state in this function\n",
    "feature_sel_model.fit(X_train, y_train)"
   ]
  },
  {
   "cell_type": "code",
   "execution_count": 187,
   "metadata": {},
   "outputs": [
    {
     "data": {
      "text/plain": [
       "array([ True,  True,  True,  True,  True,  True,  True,  True, False,\n",
       "       False, False, False, False, False, False, False, False, False,\n",
       "       False, False, False, False])"
      ]
     },
     "execution_count": 187,
     "metadata": {},
     "output_type": "execute_result"
    }
   ],
   "source": [
    "feature_sel_model.get_support()"
   ]
  },
  {
   "cell_type": "code",
   "execution_count": 188,
   "metadata": {},
   "outputs": [
    {
     "name": "stdout",
     "output_type": "stream",
     "text": [
      "total features: 22\n",
      "selected features: 8\n"
     ]
    }
   ],
   "source": [
    "# let's print the number of total and selected features\n",
    "\n",
    "# this is how we can make a list of the selected features\n",
    "selected_feat = X_train.columns[(feature_sel_model.get_support())]\n",
    "\n",
    "# let's print some stats\n",
    "print('total features: {}'.format((X_train.shape[1])))\n",
    "print('selected features: {}'.format(len(selected_feat)))\n"
   ]
  },
  {
   "cell_type": "code",
   "execution_count": 189,
   "metadata": {},
   "outputs": [
    {
     "data": {
      "text/plain": [
       "Index(['UNEM_RATE', 'MORTGAGE', 'GDPC1', 'FORECLOSURES', 'Permit_Number',\n",
       "       'construction', 'Homes_Sold', 'Housing_Starts'],\n",
       "      dtype='object')"
      ]
     },
     "execution_count": 189,
     "metadata": {},
     "output_type": "execute_result"
    }
   ],
   "source": [
    "selected_feat"
   ]
  },
  {
   "cell_type": "code",
   "execution_count": 190,
   "metadata": {},
   "outputs": [
    {
     "data": {
      "text/html": [
       "<div>\n",
       "<style scoped>\n",
       "    .dataframe tbody tr th:only-of-type {\n",
       "        vertical-align: middle;\n",
       "    }\n",
       "\n",
       "    .dataframe tbody tr th {\n",
       "        vertical-align: top;\n",
       "    }\n",
       "\n",
       "    .dataframe thead th {\n",
       "        text-align: right;\n",
       "    }\n",
       "</style>\n",
       "<table border=\"1\" class=\"dataframe\">\n",
       "  <thead>\n",
       "    <tr style=\"text-align: right;\">\n",
       "      <th></th>\n",
       "      <th>UNEM_RATE</th>\n",
       "      <th>MORTGAGE</th>\n",
       "      <th>GDPC1</th>\n",
       "      <th>FORECLOSURES</th>\n",
       "      <th>Permit_Number</th>\n",
       "      <th>construction</th>\n",
       "      <th>Homes_Sold</th>\n",
       "      <th>Housing_Starts</th>\n",
       "      <th>UNEM_RATEnan</th>\n",
       "      <th>MORTGAGEnan</th>\n",
       "      <th>GDPC1nan</th>\n",
       "      <th>FORECLOSURESnan</th>\n",
       "      <th>HPInan</th>\n",
       "      <th>Permit_Numbernan</th>\n",
       "      <th>constructionnan</th>\n",
       "      <th>Homes_Soldnan</th>\n",
       "      <th>Housing_Startsnan</th>\n",
       "      <th>UNEM_RATEnannan</th>\n",
       "      <th>MORTGAGEnannan</th>\n",
       "      <th>GDPC1nannan</th>\n",
       "      <th>FORECLOSURESnannan</th>\n",
       "      <th>HPInannan</th>\n",
       "    </tr>\n",
       "  </thead>\n",
       "  <tbody>\n",
       "    <tr>\n",
       "      <th>0</th>\n",
       "      <td>4.03</td>\n",
       "      <td>8.26</td>\n",
       "      <td>12935.252</td>\n",
       "      <td>1.95</td>\n",
       "      <td>1727</td>\n",
       "      <td>353065</td>\n",
       "      <td>873</td>\n",
       "      <td>1636</td>\n",
       "      <td>0</td>\n",
       "      <td>0</td>\n",
       "      <td>0</td>\n",
       "      <td>0</td>\n",
       "      <td>0</td>\n",
       "      <td>0</td>\n",
       "      <td>0</td>\n",
       "      <td>0</td>\n",
       "      <td>0</td>\n",
       "      <td>0</td>\n",
       "      <td>0</td>\n",
       "      <td>0</td>\n",
       "      <td>0</td>\n",
       "      <td>0</td>\n",
       "    </tr>\n",
       "    <tr>\n",
       "      <th>1</th>\n",
       "      <td>3.93</td>\n",
       "      <td>8.32</td>\n",
       "      <td>13170.749</td>\n",
       "      <td>1.97</td>\n",
       "      <td>1692</td>\n",
       "      <td>351933</td>\n",
       "      <td>856</td>\n",
       "      <td>1737</td>\n",
       "      <td>0</td>\n",
       "      <td>0</td>\n",
       "      <td>0</td>\n",
       "      <td>0</td>\n",
       "      <td>0</td>\n",
       "      <td>0</td>\n",
       "      <td>0</td>\n",
       "      <td>0</td>\n",
       "      <td>0</td>\n",
       "      <td>0</td>\n",
       "      <td>0</td>\n",
       "      <td>0</td>\n",
       "      <td>0</td>\n",
       "      <td>0</td>\n",
       "    </tr>\n",
       "    <tr>\n",
       "      <th>2</th>\n",
       "      <td>4.00</td>\n",
       "      <td>8.02</td>\n",
       "      <td>13183.890</td>\n",
       "      <td>2.09</td>\n",
       "      <td>1651</td>\n",
       "      <td>353452</td>\n",
       "      <td>900</td>\n",
       "      <td>1604</td>\n",
       "      <td>0</td>\n",
       "      <td>0</td>\n",
       "      <td>0</td>\n",
       "      <td>0</td>\n",
       "      <td>0</td>\n",
       "      <td>0</td>\n",
       "      <td>0</td>\n",
       "      <td>0</td>\n",
       "      <td>0</td>\n",
       "      <td>0</td>\n",
       "      <td>0</td>\n",
       "      <td>0</td>\n",
       "      <td>0</td>\n",
       "      <td>0</td>\n",
       "    </tr>\n",
       "    <tr>\n",
       "      <th>3</th>\n",
       "      <td>3.90</td>\n",
       "      <td>7.62</td>\n",
       "      <td>13262.250</td>\n",
       "      <td>2.23</td>\n",
       "      <td>1597</td>\n",
       "      <td>356188</td>\n",
       "      <td>841</td>\n",
       "      <td>1626</td>\n",
       "      <td>0</td>\n",
       "      <td>0</td>\n",
       "      <td>0</td>\n",
       "      <td>0</td>\n",
       "      <td>0</td>\n",
       "      <td>0</td>\n",
       "      <td>0</td>\n",
       "      <td>0</td>\n",
       "      <td>0</td>\n",
       "      <td>0</td>\n",
       "      <td>0</td>\n",
       "      <td>0</td>\n",
       "      <td>0</td>\n",
       "      <td>0</td>\n",
       "    </tr>\n",
       "    <tr>\n",
       "      <th>4</th>\n",
       "      <td>4.23</td>\n",
       "      <td>7.01</td>\n",
       "      <td>13219.251</td>\n",
       "      <td>2.34</td>\n",
       "      <td>1543</td>\n",
       "      <td>349907</td>\n",
       "      <td>857</td>\n",
       "      <td>1575</td>\n",
       "      <td>0</td>\n",
       "      <td>0</td>\n",
       "      <td>0</td>\n",
       "      <td>0</td>\n",
       "      <td>0</td>\n",
       "      <td>0</td>\n",
       "      <td>0</td>\n",
       "      <td>0</td>\n",
       "      <td>0</td>\n",
       "      <td>0</td>\n",
       "      <td>0</td>\n",
       "      <td>0</td>\n",
       "      <td>0</td>\n",
       "      <td>0</td>\n",
       "    </tr>\n",
       "  </tbody>\n",
       "</table>\n",
       "</div>"
      ],
      "text/plain": [
       "   UNEM_RATE  MORTGAGE      GDPC1  FORECLOSURES  Permit_Number  construction  \\\n",
       "0       4.03      8.26  12935.252          1.95           1727        353065   \n",
       "1       3.93      8.32  13170.749          1.97           1692        351933   \n",
       "2       4.00      8.02  13183.890          2.09           1651        353452   \n",
       "3       3.90      7.62  13262.250          2.23           1597        356188   \n",
       "4       4.23      7.01  13219.251          2.34           1543        349907   \n",
       "\n",
       "   Homes_Sold  Housing_Starts  UNEM_RATEnan  MORTGAGEnan  GDPC1nan  \\\n",
       "0         873            1636             0            0         0   \n",
       "1         856            1737             0            0         0   \n",
       "2         900            1604             0            0         0   \n",
       "3         841            1626             0            0         0   \n",
       "4         857            1575             0            0         0   \n",
       "\n",
       "   FORECLOSURESnan  HPInan  Permit_Numbernan  constructionnan  Homes_Soldnan  \\\n",
       "0                0       0                 0                0              0   \n",
       "1                0       0                 0                0              0   \n",
       "2                0       0                 0                0              0   \n",
       "3                0       0                 0                0              0   \n",
       "4                0       0                 0                0              0   \n",
       "\n",
       "   Housing_Startsnan  UNEM_RATEnannan  MORTGAGEnannan  GDPC1nannan  \\\n",
       "0                  0                0               0            0   \n",
       "1                  0                0               0            0   \n",
       "2                  0                0               0            0   \n",
       "3                  0                0               0            0   \n",
       "4                  0                0               0            0   \n",
       "\n",
       "   FORECLOSURESnannan  HPInannan  \n",
       "0                   0          0  \n",
       "1                   0          0  \n",
       "2                   0          0  \n",
       "3                   0          0  \n",
       "4                   0          0  "
      ]
     },
     "execution_count": 190,
     "metadata": {},
     "output_type": "execute_result"
    }
   ],
   "source": [
    "X_train.head()"
   ]
  },
  {
   "cell_type": "markdown",
   "metadata": {},
   "source": [
    "# Model Building"
   ]
  },
  {
   "cell_type": "code",
   "execution_count": 191,
   "metadata": {},
   "outputs": [],
   "source": [
    "from sklearn.linear_model import LogisticRegression\n",
    "from sklearn.svm import SVC\n",
    "from sklearn.naive_bayes import MultinomialNB\n",
    "from sklearn.tree import DecisionTreeClassifier\n",
    "from sklearn.neighbors import KNeighborsClassifier\n",
    "from sklearn.ensemble import RandomForestClassifier\n",
    "from sklearn.ensemble import AdaBoostClassifier\n",
    "from sklearn.ensemble import BaggingClassifier\n",
    "from sklearn.ensemble import ExtraTreesClassifier\n",
    "from sklearn.ensemble import GradientBoostingClassifier\n"
   ]
  },
  {
   "cell_type": "code",
   "execution_count": 192,
   "metadata": {},
   "outputs": [],
   "source": [
    "svc = SVC(kernel='sigmoid', gamma=1.0)\n",
    "knc = KNeighborsClassifier()\n",
    "mnb = MultinomialNB()\n",
    "dtc = DecisionTreeClassifier(max_depth=5)\n",
    "lrc = LogisticRegression(solver='liblinear', penalty='l1')\n",
    "rfc = RandomForestClassifier(n_estimators=50, random_state=2)\n",
    "abc = AdaBoostClassifier(n_estimators=50, random_state=2)\n",
    "bc = BaggingClassifier(n_estimators=50, random_state=2)\n",
    "etc = ExtraTreesClassifier(n_estimators=50, random_state=2)\n",
    "gbdt = GradientBoostingClassifier(n_estimators=50,random_state=2)"
   ]
  },
  {
   "cell_type": "code",
   "execution_count": 193,
   "metadata": {},
   "outputs": [],
   "source": [
    "clfs = {\n",
    "    'SVC' : svc,\n",
    "    'KN' : knc, \n",
    "    'NB': mnb, \n",
    "    'DT': dtc, \n",
    "    'LR': lrc, \n",
    "    'RF': rfc, \n",
    "    'AdaBoost': abc, \n",
    "    'BgC': bc, \n",
    "    'ETC': etc,\n",
    "    'GBDT':gbdt\n",
    "}\n"
   ]
  },
  {
   "cell_type": "code",
   "execution_count": 194,
   "metadata": {},
   "outputs": [],
   "source": [
    "from sklearn.metrics import accuracy_score,confusion_matrix,precision_score"
   ]
  },
  {
   "cell_type": "code",
   "execution_count": 195,
   "metadata": {},
   "outputs": [],
   "source": [
    "def train_classifier(clf,X_train,y_train,X_test,y_test):\n",
    "    clf.fit(X_train,y_train)\n",
    "    y_pred = clf.predict(X_test)\n",
    "    accuracy = accuracy_score(y_test,y_pred)\n",
    "    precision = precision_score(y_test,y_pred)\n",
    "    \n",
    "    return accuracy,precision"
   ]
  },
  {
   "cell_type": "code",
   "execution_count": null,
   "metadata": {},
   "outputs": [],
   "source": [
    "accuracy_scores = []\n",
    "precision_scores = []\n",
    "\n",
    "for name,clf in clfs.items():\n",
    "    \n",
    "    current_accuracy,current_precision = train_classifier(clf, X_train,y_train,X_test,y_test)\n",
    "    \n",
    "    print(\"For \",name)\n",
    "    print(\"Accuracy - \",current_accuracy)\n",
    "    print(\"Precision - \",current_precision)\n",
    "    \n",
    "    accuracy_scores.append(current_accuracy)\n",
    "    precision_scores.append(current_precision)"
   ]
  },
  {
   "cell_type": "code",
   "execution_count": null,
   "metadata": {},
   "outputs": [],
   "source": []
  }
 ],
 "metadata": {
  "kernelspec": {
   "display_name": "Python 3",
   "language": "python",
   "name": "python3"
  },
  "language_info": {
   "codemirror_mode": {
    "name": "ipython",
    "version": 3
   },
   "file_extension": ".py",
   "mimetype": "text/x-python",
   "name": "python",
   "nbconvert_exporter": "python",
   "pygments_lexer": "ipython3",
   "version": "3.8.5"
  }
 },
 "nbformat": 4,
 "nbformat_minor": 4
}
